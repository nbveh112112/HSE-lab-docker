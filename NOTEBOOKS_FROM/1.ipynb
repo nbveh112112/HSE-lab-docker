{
 "cells": [
  {
   "cell_type": "code",
   "execution_count": 1,
   "id": "b447a4bb-fa48-49ee-951c-16cbb878af09",
   "metadata": {},
   "outputs": [
    {
     "name": "stdin",
     "output_type": "stream",
     "text": [
      " 9/2+1\n"
     ]
    },
    {
     "name": "stdout",
     "output_type": "stream",
     "text": [
      "5.5\n"
     ]
    }
   ],
   "source": [
    "print(eval(input()))"
   ]
  },
  {
   "cell_type": "code",
   "execution_count": null,
   "id": "d2c1e309-3173-491d-861d-841337a5c5cb",
   "metadata": {},
   "outputs": [],
   "source": []
  }
 ],
 "metadata": {
  "kernelspec": {
   "display_name": "Python 3 (ipykernel)",
   "language": "python",
   "name": "python3"
  },
  "language_info": {
   "codemirror_mode": {
    "name": "ipython",
    "version": 3
   },
   "file_extension": ".py",
   "mimetype": "text/x-python",
   "name": "python",
   "nbconvert_exporter": "python",
   "pygments_lexer": "ipython3",
   "version": "3.10.6"
  }
 },
 "nbformat": 4,
 "nbformat_minor": 5
}
